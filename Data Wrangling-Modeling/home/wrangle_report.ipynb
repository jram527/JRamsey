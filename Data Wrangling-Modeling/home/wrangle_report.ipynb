{
 "cells": [
  {
   "cell_type": "markdown",
   "metadata": {},
   "source": [
    "## Reporting: wrangle_report"
   ]
  },
  {
   "cell_type": "markdown",
   "metadata": {},
   "source": [
    "This report outlines the objectives of data wrangling the archive from the Twitter account WeRateDogs. The intent of this document is to communicate the processes of gathering, accessing, cleaning, storing, analyzing, and visualizing the data utilizing the pandas, requests, os, json, NumPy, seaborn, and matplotlib libraries in Jupytr Notebooks.\n",
    "\n",
    "Beginning the analysis requires interacting with three datasets: The main Twitter archive, the Tweet Image Predictions, and the Twitter JSON. The Twitter archive is a comma-separated values file containing approximately 5000 tweets. The Twitter API/JSON is a scrape of retweet and favorite count data downloaded programmatically, and the Image Predictions file is a tab-separated values file containing tweet data from a neural network. \n",
    "\n",
    "The three pieces of data will come together for the access process. To assess the gathered data, eight quality issues and two tidiness issues were identified through visual and programmatic assessments using pandas. After saving the original data, cleaned data frames will be formed after using the define, code, and test methods for each of the identified issues. The issues identified are as follows:"
   ]
  },
  {
   "cell_type": "markdown",
   "metadata": {},
   "source": [
    "### Quality issues\n",
    "1. Remove all retweets\n",
    "\n",
    "2. JSON ID needs to be Tweet_IDs\n",
    "\n",
    "3. Tweet_ID needs be 'string', not 'int'\n",
    "\n",
    "4. Timestamp column needs to be changed to 'date time', not 'str'\n",
    "\n",
    "5. Rating_numberator and Rating_demoninator should be float\n",
    "\n",
    "6. Incorrect dog names need to be removed\n",
    "\n",
    "7. Missing URLs\n",
    "\n",
    "8. Duplicates in JPG URLs"
   ]
  },
  {
   "cell_type": "markdown",
   "metadata": {},
   "source": [
    "### Tidiness issues\n",
    "1. Combining doggo, floofer, pupper. and puppo\n",
    "\n",
    "2. Merge Tweet_ID from all three data sets"
   ]
  },
  {
   "cell_type": "markdown",
   "metadata": {},
   "source": [
    "Drops were used to remove unnecessary retweet columns. Correct datatypes were specified for Tweet IDs, timestamps, and ratings columns. Erroneous dog names were removed by using for loops for identification and removal. Missing data for the missing URLs were removed and the JPG URL duplicates were also removed. Finally, columns for Dog Stage were combined, as well as combining the Tweet IDs. The cleaning process concludes by storing the clean data frame in a new master file where insights and visualizations can be conducted. "
   ]
  }
 ],
 "metadata": {
  "kernelspec": {
   "display_name": "Python 3",
   "language": "python",
   "name": "python3"
  },
  "language_info": {
   "codemirror_mode": {
    "name": "ipython",
    "version": 3
   },
   "file_extension": ".py",
   "mimetype": "text/x-python",
   "name": "python",
   "nbconvert_exporter": "python",
   "pygments_lexer": "ipython3",
   "version": "3.6.3"
  }
 },
 "nbformat": 4,
 "nbformat_minor": 2
}
